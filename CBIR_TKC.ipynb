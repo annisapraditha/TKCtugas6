{
  "nbformat": 4,
  "nbformat_minor": 0,
  "metadata": {
    "colab": {
      "name": "CBIR TKC.ipynb",
      "provenance": [],
      "collapsed_sections": [],
      "authorship_tag": "ABX9TyPSbGBIfM0MvaC6ksI4xP0F",
      "include_colab_link": true
    },
    "kernelspec": {
      "name": "python3",
      "display_name": "Python 3"
    },
    "language_info": {
      "name": "python"
    },
    "accelerator": "GPU"
  },
  "cells": [
    {
      "cell_type": "markdown",
      "metadata": {
        "id": "view-in-github",
        "colab_type": "text"
      },
      "source": [
        "<a href=\"https://colab.research.google.com/github/annisapraditha/TKCtugas6/blob/main/CBIR_TKC.ipynb\" target=\"_parent\"><img src=\"https://colab.research.google.com/assets/colab-badge.svg\" alt=\"Open In Colab\"/></a>"
      ]
    },
    {
      "cell_type": "code",
      "metadata": {
        "id": "tKFhSi9Wmnmz",
        "colab": {
          "base_uri": "https://localhost:8080/"
        },
        "outputId": "ae9841fe-d2f9-46f7-f87f-4bec0051d763"
      },
      "source": [
        "from google.colab import drive #buat loot drive\n",
        "drive.mount('/content/drive')"
      ],
      "execution_count": 1,
      "outputs": [
        {
          "output_type": "stream",
          "name": "stdout",
          "text": [
            "Mounted at /content/drive\n"
          ]
        }
      ]
    },
    {
      "cell_type": "code",
      "metadata": {
        "id": "A-DXGpgQncku"
      },
      "source": [
        "import os\n",
        "import zipfile\n",
        "\n",
        "local_zip = '/content/drive/MyDrive/TKC/Skinlee.zip'\n",
        "zip_ref = zipfile.ZipFile(local_zip, 'r')\n",
        "zip_ref.extractall('/tmp')\n",
        "zip_ref.close()"
      ],
      "execution_count": 2,
      "outputs": []
    },
    {
      "cell_type": "code",
      "metadata": {
        "colab": {
          "base_uri": "https://localhost:8080/"
        },
        "id": "M2ND0RI9GBEv",
        "outputId": "6f16f593-e76f-44b1-a1e8-6c3bb397bf03"
      },
      "source": [
        "%ls"
      ],
      "execution_count": 14,
      "outputs": [
        {
          "output_type": "stream",
          "name": "stdout",
          "text": [
            "\u001b[0m\u001b[01;34mtest\u001b[0m/  \u001b[01;34mtrain\u001b[0m/\n"
          ]
        }
      ]
    },
    {
      "cell_type": "code",
      "metadata": {
        "colab": {
          "base_uri": "https://localhost:8080/"
        },
        "id": "K05UkXSDGKpS",
        "outputId": "6fceaef7-9ca2-472b-b1b9-7ab4f821be38"
      },
      "source": [
        "cd /tmp/Skinlee"
      ],
      "execution_count": 8,
      "outputs": [
        {
          "output_type": "stream",
          "name": "stdout",
          "text": [
            "/tmp/Skinlee\n"
          ]
        }
      ]
    },
    {
      "cell_type": "code",
      "metadata": {
        "id": "8JXuD8yCncnJ"
      },
      "source": [
        "# Definisikan path untuk data train dan data validation\n",
        "\n",
        "base_dir = '/tmp/Skinle'\n",
        "\n",
        "\n",
        "test_dir = os.path.join(base_dir, 'test')\n",
        "train_dir = os.path.join(base_dir, 'train')\n",
        "\n",
        "test_skin_dir = os.path.join(test_dir, 'skin')\n",
        "test_lesion_dir = os.path.join(test_dir, 'lesion')\n",
        "\n",
        "train_skin_dir = os.path.join(train_dir, 'skin')\n",
        "train_lesion_dir = os.path.join(train_dir, 'lesion')"
      ],
      "execution_count": 15,
      "outputs": []
    },
    {
      "cell_type": "code",
      "metadata": {
        "id": "4e9tr7HlGmae"
      },
      "source": [
        "train_dir = 'train'\n",
        "test_dir = 'test'"
      ],
      "execution_count": 20,
      "outputs": []
    },
    {
      "cell_type": "code",
      "metadata": {
        "id": "-oKC9llXncpZ"
      },
      "source": [
        "import cv2\n",
        "import numpy as np\n",
        "\n",
        "# Gather data test\n",
        "test_data = []\n",
        "test_label = []\n",
        "for r, d, f in os.walk(test_dir):\n",
        "    for file in f:\n",
        "        if \".jpg\" in file:\n",
        "            imagePath = os.path.join(r, file)\n",
        "            image = cv2.imread(imagePath)\n",
        "            image = cv2.resize(image, (150,150))\n",
        "            test_data.append(image)\n",
        "            label = imagePath.split(os.path.sep)[-2]\n",
        "            test_label.append(label)\n",
        "\n",
        "test_data = np.array(test_data)\n",
        "test_label = np.array(test_label)"
      ],
      "execution_count": 21,
      "outputs": []
    },
    {
      "cell_type": "code",
      "metadata": {
        "id": "g_YlghTJncsG"
      },
      "source": [
        "# Gather data validation\n",
        "train_data = []\n",
        "train_label = []\n",
        "for r, d, f in os.walk(train_dir):\n",
        "    for file in f:\n",
        "        if \".jpg\" in file:\n",
        "            imagePath = os.path.join(r, file)\n",
        "            image = cv2.imread(imagePath)\n",
        "            image = cv2.resize(image, (150,150))\n",
        "            train_data.append(image)\n",
        "            label = imagePath.split(os.path.sep)[-2]\n",
        "            train_label.append(label)\n",
        "\n",
        "train_data = np.array(train_data)\n",
        "train_label = np.array(train_label)"
      ],
      "execution_count": 22,
      "outputs": []
    },
    {
      "cell_type": "code",
      "metadata": {
        "id": "XsDVfWGDncuc",
        "colab": {
          "base_uri": "https://localhost:8080/"
        },
        "outputId": "5113873e-0bf8-4005-e69a-e488e915ffa5"
      },
      "source": [
        "print(\"Train Data = \", train_data.shape)\n",
        "print(\"Train Label = \", train_label.shape)\n",
        "print(\"Test Data = \", test_data.shape)\n",
        "print(\"Test Label = \", test_label.shape)"
      ],
      "execution_count": 23,
      "outputs": [
        {
          "output_type": "stream",
          "name": "stdout",
          "text": [
            "Train Data =  (635, 150, 150, 3)\n",
            "Train Label =  (635,)\n",
            "Test Data =  (547, 150, 150, 3)\n",
            "Test Label =  (547,)\n"
          ]
        }
      ]
    },
    {
      "cell_type": "code",
      "metadata": {
        "id": "0CC7sk7xncwj",
        "colab": {
          "base_uri": "https://localhost:8080/"
        },
        "outputId": "3e298d73-9768-48c3-8b60-1fe0174dc423"
      },
      "source": [
        "# Normalisasi dataset\n",
        "print(\"Data sebelum di-normalisasi \", test_data[0][0][0])\n",
        "\n",
        "x_test = test_data.astype('float32') / 255.0\n",
        "x_train = train_data.astype('float32') / 255.0\n",
        "print(\"Data setelah di-normalisasi \", x_test[0][0][0])"
      ],
      "execution_count": 24,
      "outputs": [
        {
          "output_type": "stream",
          "name": "stdout",
          "text": [
            "Data sebelum di-normalisasi  [170 164 165]\n",
            "Data setelah di-normalisasi  [0.6666667  0.6431373  0.64705884]\n"
          ]
        }
      ]
    },
    {
      "cell_type": "code",
      "metadata": {
        "id": "FR_iQ8iancy5",
        "colab": {
          "base_uri": "https://localhost:8080/"
        },
        "outputId": "9e3518c8-aaca-4a18-944f-3d099118178e"
      },
      "source": [
        "# Transformasi label encoder\n",
        "from sklearn.preprocessing import LabelEncoder\n",
        "\n",
        "print(\"Label sebelum di-encoder \", test_label[100:110])\n",
        "\n",
        "lb = LabelEncoder()\n",
        "y_test = lb.fit_transform(test_label)\n",
        "y_train = lb.fit_transform(train_label)\n",
        "\n",
        "print(\"Label setelah di-encoder \", y_test[100:110])"
      ],
      "execution_count": 25,
      "outputs": [
        {
          "output_type": "stream",
          "name": "stdout",
          "text": [
            "Label sebelum di-encoder  ['skin' 'skin' 'skin' 'skin' 'skin' 'skin' 'skin' 'skin' 'skin' 'skin']\n",
            "Label setelah di-encoder  [1 1 1 1 1 1 1 1 1 1]\n"
          ]
        }
      ]
    },
    {
      "cell_type": "code",
      "metadata": {
        "id": "05K8k6Vunc0u"
      },
      "source": [
        "from tensorflow.keras.models import Sequential\n",
        "from tensorflow.keras.layers import InputLayer, Dense, Conv2D, MaxPool2D, Flatten"
      ],
      "execution_count": 26,
      "outputs": []
    },
    {
      "cell_type": "code",
      "metadata": {
        "id": "YPGEN4L9nc2w"
      },
      "source": [
        "# Feature Extraction Layer\n",
        "model = Sequential()\n",
        "\n",
        "model.add(InputLayer(input_shape=[150,150,3]))\n",
        "model.add(Conv2D(filters=16, kernel_size=3, strides=1, padding='same', activation='relu'))\n",
        "model.add(MaxPool2D(pool_size=2, padding='same'))\n",
        "model.add(Conv2D(filters=32, kernel_size=3, strides=1, padding='same', activation='relu'))\n",
        "model.add(MaxPool2D(pool_size=2, padding='same'))\n",
        "model.add(Conv2D(filters=64, kernel_size=3, strides=1, padding='same', activation='relu'))\n",
        "model.add(MaxPool2D(pool_size=2, padding='same'))\n",
        "model.add(Conv2D(filters=516, kernel_size=3, strides=1, padding='same', activation='relu'))\n",
        "model.add(MaxPool2D(pool_size=2, padding='same'))\n",
        "model.add(Flatten())"
      ],
      "execution_count": 27,
      "outputs": []
    },
    {
      "cell_type": "code",
      "metadata": {
        "id": "yBfrZOVjnc4x"
      },
      "source": [
        "# Fully Connected Layer\n",
        "model.add(Dense(128, activation='relu'))\n",
        "model.add(Dense(1, activation='sigmoid'))"
      ],
      "execution_count": 28,
      "outputs": []
    },
    {
      "cell_type": "code",
      "metadata": {
        "id": "BYFsRSyTnx54",
        "colab": {
          "base_uri": "https://localhost:8080/"
        },
        "outputId": "ab1c7db6-6ac5-498a-e7af-284d21f09c32"
      },
      "source": [
        "# Print model summary\n",
        "print(model.summary())"
      ],
      "execution_count": 29,
      "outputs": [
        {
          "output_type": "stream",
          "name": "stdout",
          "text": [
            "Model: \"sequential\"\n",
            "_________________________________________________________________\n",
            " Layer (type)                Output Shape              Param #   \n",
            "=================================================================\n",
            " conv2d (Conv2D)             (None, 150, 150, 16)      448       \n",
            "                                                                 \n",
            " max_pooling2d (MaxPooling2D  (None, 75, 75, 16)       0         \n",
            " )                                                               \n",
            "                                                                 \n",
            " conv2d_1 (Conv2D)           (None, 75, 75, 32)        4640      \n",
            "                                                                 \n",
            " max_pooling2d_1 (MaxPooling  (None, 38, 38, 32)       0         \n",
            " 2D)                                                             \n",
            "                                                                 \n",
            " conv2d_2 (Conv2D)           (None, 38, 38, 64)        18496     \n",
            "                                                                 \n",
            " max_pooling2d_2 (MaxPooling  (None, 19, 19, 64)       0         \n",
            " 2D)                                                             \n",
            "                                                                 \n",
            " conv2d_3 (Conv2D)           (None, 19, 19, 516)       297732    \n",
            "                                                                 \n",
            " max_pooling2d_3 (MaxPooling  (None, 10, 10, 516)      0         \n",
            " 2D)                                                             \n",
            "                                                                 \n",
            " flatten (Flatten)           (None, 51600)             0         \n",
            "                                                                 \n",
            " dense (Dense)               (None, 128)               6604928   \n",
            "                                                                 \n",
            " dense_1 (Dense)             (None, 1)                 129       \n",
            "                                                                 \n",
            "=================================================================\n",
            "Total params: 6,926,373\n",
            "Trainable params: 6,926,373\n",
            "Non-trainable params: 0\n",
            "_________________________________________________________________\n",
            "None\n"
          ]
        }
      ]
    },
    {
      "cell_type": "code",
      "metadata": {
        "id": "if_Ytz40nx8Z",
        "colab": {
          "base_uri": "https://localhost:8080/"
        },
        "outputId": "f93fc53c-42ae-4b6a-8a7a-87ae155db8ac"
      },
      "source": [
        "# Compile model\n",
        "from tensorflow.keras.optimizers import Adam\n",
        "\n",
        "model.compile(optimizer=Adam(lr=0.0001), \n",
        "              loss='binary_crossentropy', \n",
        "              metrics=['acc'])"
      ],
      "execution_count": 30,
      "outputs": [
        {
          "output_type": "stream",
          "name": "stderr",
          "text": [
            "/usr/local/lib/python3.7/dist-packages/keras/optimizer_v2/adam.py:105: UserWarning: The `lr` argument is deprecated, use `learning_rate` instead.\n",
            "  super(Adam, self).__init__(name, **kwargs)\n"
          ]
        }
      ]
    },
    {
      "cell_type": "code",
      "metadata": {
        "id": "DyVUW0Elnx--",
        "colab": {
          "base_uri": "https://localhost:8080/"
        },
        "outputId": "4a56d245-9165-45ab-d697-3a0b08a9d700"
      },
      "source": [
        "H = model.fit(x_test, y_test, batch_size=20, epochs=15, validation_data=(x_train, y_train))"
      ],
      "execution_count": 31,
      "outputs": [
        {
          "output_type": "stream",
          "name": "stdout",
          "text": [
            "Epoch 1/15\n",
            "28/28 [==============================] - 27s 940ms/step - loss: 0.6765 - acc: 0.5978 - val_loss: 0.7672 - val_acc: 0.2646\n",
            "Epoch 2/15\n",
            "28/28 [==============================] - 26s 932ms/step - loss: 0.6280 - acc: 0.6490 - val_loss: 0.6445 - val_acc: 0.7795\n",
            "Epoch 3/15\n",
            "28/28 [==============================] - 26s 931ms/step - loss: 0.5862 - acc: 0.6782 - val_loss: 0.6134 - val_acc: 0.7843\n",
            "Epoch 4/15\n",
            "28/28 [==============================] - 26s 931ms/step - loss: 0.5186 - acc: 0.7697 - val_loss: 0.5515 - val_acc: 0.7874\n",
            "Epoch 5/15\n",
            "28/28 [==============================] - 26s 931ms/step - loss: 0.4385 - acc: 0.7971 - val_loss: 0.5357 - val_acc: 0.7654\n",
            "Epoch 6/15\n",
            "28/28 [==============================] - 26s 930ms/step - loss: 0.3661 - acc: 0.8464 - val_loss: 0.5963 - val_acc: 0.6835\n",
            "Epoch 7/15\n",
            "28/28 [==============================] - 26s 934ms/step - loss: 0.3506 - acc: 0.8428 - val_loss: 0.5471 - val_acc: 0.7606\n",
            "Epoch 8/15\n",
            "28/28 [==============================] - 26s 938ms/step - loss: 0.3222 - acc: 0.8611 - val_loss: 0.5439 - val_acc: 0.7575\n",
            "Epoch 9/15\n",
            "28/28 [==============================] - 26s 932ms/step - loss: 0.3055 - acc: 0.8519 - val_loss: 0.5430 - val_acc: 0.7575\n",
            "Epoch 10/15\n",
            "28/28 [==============================] - 26s 927ms/step - loss: 0.2955 - acc: 0.8665 - val_loss: 0.5325 - val_acc: 0.7622\n",
            "Epoch 11/15\n",
            "28/28 [==============================] - 26s 929ms/step - loss: 0.2808 - acc: 0.8720 - val_loss: 0.5610 - val_acc: 0.7575\n",
            "Epoch 12/15\n",
            "28/28 [==============================] - 26s 931ms/step - loss: 0.2874 - acc: 0.8647 - val_loss: 0.6800 - val_acc: 0.5953\n",
            "Epoch 13/15\n",
            "28/28 [==============================] - 26s 925ms/step - loss: 0.2940 - acc: 0.8665 - val_loss: 0.5470 - val_acc: 0.7701\n",
            "Epoch 14/15\n",
            "28/28 [==============================] - 26s 939ms/step - loss: 0.2812 - acc: 0.8739 - val_loss: 0.5691 - val_acc: 0.7449\n",
            "Epoch 15/15\n",
            "28/28 [==============================] - 26s 932ms/step - loss: 0.2758 - acc: 0.8720 - val_loss: 0.5492 - val_acc: 0.7606\n"
          ]
        }
      ]
    },
    {
      "cell_type": "code",
      "metadata": {
        "id": "TqHeLeV_nyBP",
        "colab": {
          "base_uri": "https://localhost:8080/",
          "height": 581
        },
        "outputId": "d9fe88c4-9b54-45ff-b18b-598fbd7dabc7"
      },
      "source": [
        "%matplotlib inline\n",
        "\n",
        "import matplotlib.pyplot as plt\n",
        "\n",
        "plt.style.use(\"ggplot\")\n",
        "plt.figure()\n",
        "plt.plot(np.arange(0, 15), H.history[\"loss\"], label=\"train_loss\")\n",
        "plt.plot(np.arange(0, 15), H.history[\"val_loss\"], label=\"val_loss\")\n",
        "plt.title(\"Loss Plot\")\n",
        "plt.xlabel(\"Epoch #\")\n",
        "plt.ylabel(\"Loss\")\n",
        "plt.legend()\n",
        "plt.show()\n",
        "\n",
        "plt.style.use(\"ggplot\")\n",
        "plt.figure()\n",
        "plt.plot(np.arange(0, 15), H.history[\"acc\"], label=\"train_acc\")\n",
        "plt.plot(np.arange(0, 15), H.history[\"val_acc\"], label=\"val_acc\")\n",
        "plt.title(\"Accuracy Plot\")\n",
        "plt.xlabel(\"Epoch #\")\n",
        "plt.ylabel(\"Acc\")\n",
        "plt.legend()\n",
        "plt.show()"
      ],
      "execution_count": 33,
      "outputs": [
        {
          "output_type": "display_data",
          "data": {
            "image/png": "[encoded data removed]",
            "text/plain": [
              "<Figure size 432x288 with 1 Axes>"
            ]
          },
          "metadata": {}
        },
        {
          "output_type": "display_data",
          "data": {
            "image/png": "[encoded data removed]",
            "text/plain": [
              "<Figure size 432x288 with 1 Axes>"
            ]
          },
          "metadata": {}
        }
      ]
    },
    {
      "cell_type": "code",
      "metadata": {
        "id": "D5ALUfZJn7mq",
        "colab": {
          "base_uri": "https://localhost:8080/"
        },
        "outputId": "990cf810-8cd4-40ac-9a3b-76f01e6cb29c"
      },
      "source": [
        "from sklearn.metrics import classification_report\n",
        "\n",
        "pred = model.predict(x_train)\n",
        "labels = (pred > 0.5).astype(np.int)\n",
        "\n",
        "print(classification_report(y_train, labels))"
      ],
      "execution_count": 34,
      "outputs": [
        {
          "output_type": "stream",
          "name": "stdout",
          "text": [
            "              precision    recall  f1-score   support\n",
            "\n",
            "           0       0.74      0.15      0.25       168\n",
            "           1       0.76      0.98      0.86       467\n",
            "\n",
            "    accuracy                           0.76       635\n",
            "   macro avg       0.75      0.56      0.55       635\n",
            "weighted avg       0.75      0.76      0.70       635\n",
            "\n"
          ]
        }
      ]
    },
    {
      "cell_type": "code",
      "metadata": {
        "id": "XjN5ijpxn7pU"
      },
      "source": [
        "from keras.models import save_model\n",
        "model = save_model(model,'tugastkc.h5')"
      ],
      "execution_count": 35,
      "outputs": []
    },
    {
      "cell_type": "code",
      "metadata": {
        "id": "4P4gKvQSn7s0"
      },
      "source": [
        ""
      ],
      "execution_count": null,
      "outputs": []
    }
  ]
}